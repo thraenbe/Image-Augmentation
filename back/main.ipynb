{
 "cells": [
  {
   "cell_type": "code",
   "execution_count": 7,
   "metadata": {},
   "outputs": [],
   "source": [
    "#%pip install numpy\n",
    "#%pip install matplotlib\n",
    "#%pip install ipympl\n",
    "#%pip install Pillow\n",
    "#%pip install opencv-contrib-python\n"
   ]
  },
  {
   "cell_type": "code",
   "execution_count": 8,
   "metadata": {},
   "outputs": [],
   "source": [
    "import numpy as np\n",
    "import matplotlib.pyplot as plt\n",
    "import ipympl\n",
    "import tkinter as tk\n",
    "from PIL import ImageTk, Image\n",
    "import os     \n",
    "import cv2 as cv\n"
   ]
  },
  {
   "cell_type": "code",
   "execution_count": 9,
   "metadata": {},
   "outputs": [],
   "source": [
    "test = \"Test.jpeg\"\n",
    "def get_path(folder, image):\n",
    "    #gets the path to the image and hopefully working on *nix and Windows\n",
    "    #folder is the name of the folder in data the image is saved in\n",
    "    #image is the name of the image\n",
    "\n",
    "    #getting the current directory\n",
    "    cur_dir = os.getcwd()\n",
    "    #going up a directory\n",
    "    os.chdir(\"..\") \n",
    "    #constucting the path \n",
    "    path = os.path.join(os.getcwd(),'data',folder, image)\n",
    "\n",
    "    #going back to the original directory\n",
    "    os.chdir(cur_dir)\n",
    "   \n",
    "    return path"
   ]
  },
  {
   "cell_type": "code",
   "execution_count": 10,
   "metadata": {},
   "outputs": [],
   "source": [
    "\n",
    "def read_picture():\n",
    "        #getting the right path for the machine\n",
    "        path = get_path(\"input\", test)\n",
    "\n",
    "        # loading the image\n",
    "        imgage = np.array(Image.open(path).convert('L'))\n",
    "\n",
    "        img = cv.imread(path)\n",
    "\n",
    "        return img\n",
    "\n",
    "def gray_filter(img):\n",
    "        gray = cv.cvtColor(img, cv.COLOR_BGR2GRAY)\n",
    "\n",
    "        return gray\n",
    "\n",
    "def show_image(img, gray):\n",
    "        cv.imshow('Original image',img)\n",
    "        cv.imshow('Gray image', gray)\n",
    "\n",
    "        cv.waitKey(0)\n",
    "        cv.destroyAllWindows()\n",
    "\n",
    "def write_image(gray):\n",
    "        cv.imwrite(get_path(\"output\",test), gray)\n",
    "        "
   ]
  },
  {
   "cell_type": "code",
   "execution_count": 11,
   "metadata": {},
   "outputs": [],
   "source": [
    "def main():\n",
    " img = read_picture()\n",
    " gray = gray_filter(img)\n",
    " show_image(img, gray)\n",
    " write_image(gray)"
   ]
  },
  {
   "cell_type": "code",
   "execution_count": 12,
   "metadata": {},
   "outputs": [],
   "source": [
    "main()"
   ]
  }
 ],
 "metadata": {
  "kernelspec": {
   "display_name": "Python 3",
   "language": "python",
   "name": "python3"
  },
  "language_info": {
   "codemirror_mode": {
    "name": "ipython",
    "version": 3
   },
   "file_extension": ".py",
   "mimetype": "text/x-python",
   "name": "python",
   "nbconvert_exporter": "python",
   "pygments_lexer": "ipython3",
   "version": "3.10.5"
  },
  "orig_nbformat": 4
 },
 "nbformat": 4,
 "nbformat_minor": 2
}
