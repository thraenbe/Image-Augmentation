{
 "cells": [
  {
   "cell_type": "code",

   "execution_count": 7,
   "metadata": {},
   "outputs": [],

   "source": [
    "#%pip install numpy\n",
    "#%pip install matplotlib\n",
    "#%pip install ipympl\n",
    "#%pip install Pillow\n",
    "#%pip install opencv-contrib-python\n"
   ]
  },
  {
   "cell_type": "code",

   "execution_count": 8,

   "metadata": {},
   "outputs": [],
   "source": [
    "import numpy as np\n",
    "import matplotlib.pyplot as plt\n",
    "import ipympl\n",
    "import tkinter as tk\n",
    "from PIL import ImageTk, Image\n",

    "import os     \n",
    "import cv2 as cv\n"

   ]
  },
  {
   "cell_type": "code",

   "execution_count": 9,
   "metadata": {},
   "outputs": [],
   "source": [
    "test = \"Test.jpeg\"\n",
    "def get_path(folder, image):\n",
    "    #gets the path to the image and hopefully working on *nix and Windows\n",
    "    #folder is the name of the folder in data the image is saved in\n",
    "    #image is the name of the image\n",
    "\n",
    "    #getting the current directory\n",
    "    cur_dir = os.getcwd()\n",
    "    #going up a directory\n",
    "    os.chdir(\"..\") \n",
    "    #constucting the path \n",
    "    path = os.path.join(os.getcwd(),'data',folder, image)\n",
    "\n",
    "    #going back to the original directory\n",
    "    os.chdir(cur_dir)\n",
    "   \n",

    "    return path"
   ]
  },
  {
   "cell_type": "code",
   
   "execution_count": 10,

   "metadata": {},
   "outputs": [],
   "source": [
    "\n",
    "def read_picture():\n",

    "        #getting the right path for the machine\n",
    "        path = get_path(\"input\", test)\n",
    "\n",
    "        # loading the image\n",
    "        imgage = np.array(Image.open(path).convert('L'))\n",
    "\n",
    "        img = cv.imread(path)\n",
    "\n",
    "        return img\n",
    "\n",
    "def gray_filter(img):\n",
    "        gray = cv.cvtColor(img, cv.COLOR_BGR2GRAY)\n",
    "\n",
    "        return gray\n",
    "\n",
    "def show_image(img, gray):\n",
    "        cv.imshow('Original image',img)\n",
    "        cv.imshow('Gray image', gray)\n",
    "\n",
    "        cv.waitKey(0)\n",
    "        cv.destroyAllWindows()\n",
    "\n",
    "def write_image(gray):\n",
    "        cv.imwrite(get_path(\"output\",test), gray)\n",
    "        "

   ]
  },
  {
   "cell_type": "code",

   "execution_count": 11,

   "metadata": {},
   "outputs": [],
   "source": [
    "def main():\n",
    " img = read_picture()\n",
    " gray = gray_filter(img)\n",
    " show_image(img, gray)\n",
    " write_image(gray)"
   ]
  },
  {
   "cell_type": "code",
   "execution_count": 12,
   "metadata": {},
   "outputs": [
    {
     "ename": "TclError",
     "evalue": "image \"pyimage3\" doesn't exist",
     "output_type": "error",
     "traceback": [
      "\u001b[1;31m---------------------------------------------------------------------------\u001b[0m",
      "\u001b[1;31mTclError\u001b[0m                                  Traceback (most recent call last)",
      "Cell \u001b[1;32mIn[57], line 1\u001b[0m\n\u001b[1;32m----> 1\u001b[0m main()\n",
      "Cell \u001b[1;32mIn[56], line 2\u001b[0m, in \u001b[0;36mmain\u001b[1;34m()\u001b[0m\n\u001b[0;32m      1\u001b[0m \u001b[39mdef\u001b[39;00m \u001b[39mmain\u001b[39m():\n\u001b[1;32m----> 2\u001b[0m     read_picture()\n",
      "Cell \u001b[1;32mIn[55], line 11\u001b[0m, in \u001b[0;36mread_picture\u001b[1;34m()\u001b[0m\n\u001b[0;32m      8\u001b[0m img \u001b[39m=\u001b[39m ImageTk\u001b[39m.\u001b[39mPhotoImage(Image\u001b[39m.\u001b[39mopen(path))\n\u001b[0;32m     10\u001b[0m \u001b[39m# reading the image\u001b[39;00m\n\u001b[1;32m---> 11\u001b[0m panel \u001b[39m=\u001b[39m tk\u001b[39m.\u001b[39;49mLabel(root, image \u001b[39m=\u001b[39;49m img)\n\u001b[0;32m     13\u001b[0m \u001b[39m# setting the application\u001b[39;00m\n\u001b[0;32m     14\u001b[0m panel\u001b[39m.\u001b[39mpack(side \u001b[39m=\u001b[39m \u001b[39m\"\u001b[39m\u001b[39mbottom\u001b[39m\u001b[39m\"\u001b[39m, fill \u001b[39m=\u001b[39m \u001b[39m\"\u001b[39m\u001b[39mboth\u001b[39m\u001b[39m\"\u001b[39m,\n\u001b[0;32m     15\u001b[0m         expand \u001b[39m=\u001b[39m \u001b[39m\"\u001b[39m\u001b[39myes\u001b[39m\u001b[39m\"\u001b[39m)\n",
      "File \u001b[1;32mc:\\Users\\Valentin\\AppData\\Local\\Programs\\Python\\Python311\\Lib\\tkinter\\__init__.py:3214\u001b[0m, in \u001b[0;36mLabel.__init__\u001b[1;34m(self, master, cnf, **kw)\u001b[0m\n\u001b[0;32m   3196\u001b[0m \u001b[39mdef\u001b[39;00m \u001b[39m__init__\u001b[39m(\u001b[39mself\u001b[39m, master\u001b[39m=\u001b[39m\u001b[39mNone\u001b[39;00m, cnf\u001b[39m=\u001b[39m{}, \u001b[39m*\u001b[39m\u001b[39m*\u001b[39mkw):\n\u001b[0;32m   3197\u001b[0m \u001b[39m    \u001b[39m\u001b[39m\"\"\"Construct a label widget with the parent MASTER.\u001b[39;00m\n\u001b[0;32m   3198\u001b[0m \n\u001b[0;32m   3199\u001b[0m \u001b[39m    STANDARD OPTIONS\u001b[39;00m\n\u001b[1;32m   (...)\u001b[0m\n\u001b[0;32m   3212\u001b[0m \n\u001b[0;32m   3213\u001b[0m \u001b[39m    \"\"\"\u001b[39;00m\n\u001b[1;32m-> 3214\u001b[0m     Widget\u001b[39m.\u001b[39;49m\u001b[39m__init__\u001b[39;49m(\u001b[39mself\u001b[39;49m, master, \u001b[39m'\u001b[39;49m\u001b[39mlabel\u001b[39;49m\u001b[39m'\u001b[39;49m, cnf, kw)\n",
      "File \u001b[1;32mc:\\Users\\Valentin\\AppData\\Local\\Programs\\Python\\Python311\\Lib\\tkinter\\__init__.py:2628\u001b[0m, in \u001b[0;36mBaseWidget.__init__\u001b[1;34m(self, master, widgetName, cnf, kw, extra)\u001b[0m\n\u001b[0;32m   2626\u001b[0m \u001b[39mfor\u001b[39;00m k, v \u001b[39min\u001b[39;00m classes:\n\u001b[0;32m   2627\u001b[0m     \u001b[39mdel\u001b[39;00m cnf[k]\n\u001b[1;32m-> 2628\u001b[0m \u001b[39mself\u001b[39;49m\u001b[39m.\u001b[39;49mtk\u001b[39m.\u001b[39;49mcall(\n\u001b[0;32m   2629\u001b[0m     (widgetName, \u001b[39mself\u001b[39;49m\u001b[39m.\u001b[39;49m_w) \u001b[39m+\u001b[39;49m extra \u001b[39m+\u001b[39;49m \u001b[39mself\u001b[39;49m\u001b[39m.\u001b[39;49m_options(cnf))\n\u001b[0;32m   2630\u001b[0m \u001b[39mfor\u001b[39;00m k, v \u001b[39min\u001b[39;00m classes:\n\u001b[0;32m   2631\u001b[0m     k\u001b[39m.\u001b[39mconfigure(\u001b[39mself\u001b[39m, v)\n",
      "\u001b[1;31mTclError\u001b[0m: image \"pyimage3\" doesn't exist"
     ]
    }
   ],
   "source": [
    "main()"
   ]
  }
 ],
 "metadata": {
  "kernelspec": {
   "display_name": "Python 3",
   "language": "python",
   "name": "python3"
  },
  "language_info": {
   "codemirror_mode": {
    "name": "ipython",
    "version": 3
   },
   "file_extension": ".py",
   "mimetype": "text/x-python",
   "name": "python",
   "nbconvert_exporter": "python",
   "pygments_lexer": "ipython3",
   "version": "3.10.5"
  },
  "orig_nbformat": 4
 },
 "nbformat": 4,
 "nbformat_minor": 2
}
