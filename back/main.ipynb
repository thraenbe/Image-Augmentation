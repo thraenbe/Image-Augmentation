{
 "cells": [
  {
   "cell_type": "code",
   "execution_count": 4,
   "metadata": {},
   "outputs": [
    {
     "name": "stdout",
     "output_type": "stream",
     "text": [
      "Defaulting to user installation because normal site-packages is not writeable\n",
      "Requirement already satisfied: numpy in /home/bela/.local/lib/python3.10/site-packages (1.24.2)\n",
      "Note: you may need to restart the kernel to use updated packages.\n",
      "Defaulting to user installation because normal site-packages is not writeable\n",
      "Requirement already satisfied: matplotlib in /home/bela/.local/lib/python3.10/site-packages (3.7.1)\n",
      "Requirement already satisfied: pyparsing>=2.3.1 in /usr/lib/python3/dist-packages (from matplotlib) (2.4.7)\n",
      "Requirement already satisfied: numpy>=1.20 in /home/bela/.local/lib/python3.10/site-packages (from matplotlib) (1.24.2)\n",
      "Requirement already satisfied: fonttools>=4.22.0 in /home/bela/.local/lib/python3.10/site-packages (from matplotlib) (4.39.3)\n",
      "Requirement already satisfied: pillow>=6.2.0 in /usr/lib/python3/dist-packages (from matplotlib) (9.0.1)\n",
      "Requirement already satisfied: packaging>=20.0 in /home/bela/.local/lib/python3.10/site-packages (from matplotlib) (23.1)\n",
      "Requirement already satisfied: python-dateutil>=2.7 in /home/bela/.local/lib/python3.10/site-packages (from matplotlib) (2.8.2)\n",
      "Requirement already satisfied: contourpy>=1.0.1 in /home/bela/.local/lib/python3.10/site-packages (from matplotlib) (1.0.7)\n",
      "Requirement already satisfied: cycler>=0.10 in /home/bela/.local/lib/python3.10/site-packages (from matplotlib) (0.11.0)\n",
      "Requirement already satisfied: kiwisolver>=1.0.1 in /home/bela/.local/lib/python3.10/site-packages (from matplotlib) (1.4.4)\n",
      "Requirement already satisfied: six>=1.5 in /usr/lib/python3/dist-packages (from python-dateutil>=2.7->matplotlib) (1.16.0)\n",
      "Note: you may need to restart the kernel to use updated packages.\n",
      "Defaulting to user installation because normal site-packages is not writeable\n",
      "Requirement already satisfied: ipympl in /home/bela/.local/lib/python3.10/site-packages (0.9.3)\n",
      "Requirement already satisfied: traitlets<6 in /home/bela/.local/lib/python3.10/site-packages (from ipympl) (5.9.0)\n",
      "Requirement already satisfied: pillow in /usr/lib/python3/dist-packages (from ipympl) (9.0.1)\n",
      "Requirement already satisfied: ipywidgets<9,>=7.6.0 in /home/bela/.local/lib/python3.10/site-packages (from ipympl) (8.0.6)\n",
      "Requirement already satisfied: numpy in /home/bela/.local/lib/python3.10/site-packages (from ipympl) (1.24.2)\n",
      "Requirement already satisfied: ipython-genutils in /home/bela/.local/lib/python3.10/site-packages (from ipympl) (0.2.0)\n",
      "Requirement already satisfied: matplotlib<4,>=3.4.0 in /home/bela/.local/lib/python3.10/site-packages (from ipympl) (3.7.1)\n",
      "Requirement already satisfied: ipython<9 in /home/bela/.local/lib/python3.10/site-packages (from ipympl) (8.12.0)\n",
      "Requirement already satisfied: matplotlib-inline in /home/bela/.local/lib/python3.10/site-packages (from ipython<9->ipympl) (0.1.6)\n",
      "Requirement already satisfied: backcall in /home/bela/.local/lib/python3.10/site-packages (from ipython<9->ipympl) (0.2.0)\n",
      "Requirement already satisfied: decorator in /home/bela/.local/lib/python3.10/site-packages (from ipython<9->ipympl) (5.1.1)\n",
      "Requirement already satisfied: pygments>=2.4.0 in /home/bela/.local/lib/python3.10/site-packages (from ipython<9->ipympl) (2.15.1)\n",
      "Requirement already satisfied: pickleshare in /home/bela/.local/lib/python3.10/site-packages (from ipython<9->ipympl) (0.7.5)\n",
      "Requirement already satisfied: stack-data in /home/bela/.local/lib/python3.10/site-packages (from ipython<9->ipympl) (0.6.2)\n",
      "Requirement already satisfied: jedi>=0.16 in /home/bela/.local/lib/python3.10/site-packages (from ipython<9->ipympl) (0.18.2)\n",
      "Requirement already satisfied: prompt-toolkit!=3.0.37,<3.1.0,>=3.0.30 in /home/bela/.local/lib/python3.10/site-packages (from ipython<9->ipympl) (3.0.38)\n",
      "Requirement already satisfied: pexpect>4.3 in /usr/lib/python3/dist-packages (from ipython<9->ipympl) (4.8.0)\n",
      "Requirement already satisfied: jupyterlab-widgets~=3.0.7 in /home/bela/.local/lib/python3.10/site-packages (from ipywidgets<9,>=7.6.0->ipympl) (3.0.7)\n",
      "Requirement already satisfied: widgetsnbextension~=4.0.7 in /home/bela/.local/lib/python3.10/site-packages (from ipywidgets<9,>=7.6.0->ipympl) (4.0.7)\n",
      "Requirement already satisfied: ipykernel>=4.5.1 in /home/bela/.local/lib/python3.10/site-packages (from ipywidgets<9,>=7.6.0->ipympl) (6.22.0)\n",
      "Requirement already satisfied: python-dateutil>=2.7 in /home/bela/.local/lib/python3.10/site-packages (from matplotlib<4,>=3.4.0->ipympl) (2.8.2)\n",
      "Requirement already satisfied: kiwisolver>=1.0.1 in /home/bela/.local/lib/python3.10/site-packages (from matplotlib<4,>=3.4.0->ipympl) (1.4.4)\n",
      "Requirement already satisfied: fonttools>=4.22.0 in /home/bela/.local/lib/python3.10/site-packages (from matplotlib<4,>=3.4.0->ipympl) (4.39.3)\n",
      "Requirement already satisfied: cycler>=0.10 in /home/bela/.local/lib/python3.10/site-packages (from matplotlib<4,>=3.4.0->ipympl) (0.11.0)\n",
      "Requirement already satisfied: packaging>=20.0 in /home/bela/.local/lib/python3.10/site-packages (from matplotlib<4,>=3.4.0->ipympl) (23.1)\n",
      "Requirement already satisfied: pyparsing>=2.3.1 in /usr/lib/python3/dist-packages (from matplotlib<4,>=3.4.0->ipympl) (2.4.7)\n",
      "Requirement already satisfied: contourpy>=1.0.1 in /home/bela/.local/lib/python3.10/site-packages (from matplotlib<4,>=3.4.0->ipympl) (1.0.7)\n",
      "Requirement already satisfied: psutil in /home/bela/.local/lib/python3.10/site-packages (from ipykernel>=4.5.1->ipywidgets<9,>=7.6.0->ipympl) (5.9.5)\n",
      "Requirement already satisfied: nest-asyncio in /home/bela/.local/lib/python3.10/site-packages (from ipykernel>=4.5.1->ipywidgets<9,>=7.6.0->ipympl) (1.5.6)\n",
      "Requirement already satisfied: jupyter-core!=5.0.*,>=4.12 in /home/bela/.local/lib/python3.10/site-packages (from ipykernel>=4.5.1->ipywidgets<9,>=7.6.0->ipympl) (5.3.0)\n",
      "Requirement already satisfied: debugpy>=1.6.5 in /home/bela/.local/lib/python3.10/site-packages (from ipykernel>=4.5.1->ipywidgets<9,>=7.6.0->ipympl) (1.6.7)\n",
      "Requirement already satisfied: pyzmq>=20 in /home/bela/.local/lib/python3.10/site-packages (from ipykernel>=4.5.1->ipywidgets<9,>=7.6.0->ipympl) (25.0.2)\n",
      "Requirement already satisfied: comm>=0.1.1 in /home/bela/.local/lib/python3.10/site-packages (from ipykernel>=4.5.1->ipywidgets<9,>=7.6.0->ipympl) (0.1.3)\n",
      "Requirement already satisfied: tornado>=6.1 in /home/bela/.local/lib/python3.10/site-packages (from ipykernel>=4.5.1->ipywidgets<9,>=7.6.0->ipympl) (6.3)\n",
      "Requirement already satisfied: jupyter-client>=6.1.12 in /home/bela/.local/lib/python3.10/site-packages (from ipykernel>=4.5.1->ipywidgets<9,>=7.6.0->ipympl) (8.2.0)\n",
      "Requirement already satisfied: parso<0.9.0,>=0.8.0 in /home/bela/.local/lib/python3.10/site-packages (from jedi>=0.16->ipython<9->ipympl) (0.8.3)\n",
      "Requirement already satisfied: wcwidth in /home/bela/.local/lib/python3.10/site-packages (from prompt-toolkit!=3.0.37,<3.1.0,>=3.0.30->ipython<9->ipympl) (0.2.6)\n",
      "Requirement already satisfied: six>=1.5 in /usr/lib/python3/dist-packages (from python-dateutil>=2.7->matplotlib<4,>=3.4.0->ipympl) (1.16.0)\n",
      "Requirement already satisfied: pure-eval in /home/bela/.local/lib/python3.10/site-packages (from stack-data->ipython<9->ipympl) (0.2.2)\n",
      "Requirement already satisfied: asttokens>=2.1.0 in /home/bela/.local/lib/python3.10/site-packages (from stack-data->ipython<9->ipympl) (2.2.1)\n",
      "Requirement already satisfied: executing>=1.2.0 in /home/bela/.local/lib/python3.10/site-packages (from stack-data->ipython<9->ipympl) (1.2.0)\n",
      "Requirement already satisfied: platformdirs>=2.5 in /home/bela/.local/lib/python3.10/site-packages (from jupyter-core!=5.0.*,>=4.12->ipykernel>=4.5.1->ipywidgets<9,>=7.6.0->ipympl) (3.2.0)\n",
      "Note: you may need to restart the kernel to use updated packages.\n",
      "Defaulting to user installation because normal site-packages is not writeable\n",
      "Requirement already satisfied: Pillow in /usr/lib/python3/dist-packages (9.0.1)\n",
      "Note: you may need to restart the kernel to use updated packages.\n",
      "Defaulting to user installation because normal site-packages is not writeable\n",
      "Collecting opencv-contrib-python\n",
      "  Downloading opencv_contrib_python-4.7.0.72-cp37-abi3-manylinux_2_17_x86_64.manylinux2014_x86_64.whl (67.9 MB)\n",
      "\u001b[2K     \u001b[90m━━━━━━━━━━━━━━━━━━━━━━━━━━━━━━━━━━━━━━━━\u001b[0m \u001b[32m67.9/67.9 MB\u001b[0m \u001b[31m10.4 MB/s\u001b[0m eta \u001b[36m0:00:00\u001b[0m00:01\u001b[0m00:01\u001b[0m\n",
      "\u001b[?25hRequirement already satisfied: numpy>=1.19.3 in /home/bela/.local/lib/python3.10/site-packages (from opencv-contrib-python) (1.24.2)\n",
      "Installing collected packages: opencv-contrib-python\n",
      "Successfully installed opencv-contrib-python-4.7.0.72\n",
      "Note: you may need to restart the kernel to use updated packages.\n"
     ]
    }
   ],
   "source": [
    "%pip install numpy\n",
    "%pip install matplotlib\n",
    "%pip install ipympl\n",
    "%pip install Pillow\n",
    "%pip install opencv-contrib-python\n"
   ]
  },
  {
   "cell_type": "code",
   "execution_count": 5,
   "metadata": {},
   "outputs": [],
   "source": [
    "import numpy as np\n",
    "import matplotlib.pyplot as plt\n",
    "import ipympl\n",
    "import tkinter as tk\n",
    "from PIL import ImageTk, Image\n",
    "import os     \n",
    "import cv2 as cv"
   ]
  },
  {
   "cell_type": "code",
   "execution_count": 6,
   "metadata": {},
   "outputs": [],
   "source": [
    "\n",
    "def get_path():\n",
    "    #gets the path to the image and hopefully working on *nix and Windows\n",
    "    \n",
    "\n",
    "    #getting the current directory\n",
    "    cur_dir = os.getcwd()\n",
    "    #going up a directory\n",
    "    os.chdir(\"..\") \n",
    "    #constucting the path \n",
    "    path = os.path.join(os.getcwd(),'data','input', 'Test.jpeg')\n",
    "\n",
    "    #going back to the original directory\n",
    "    os.chdir(cur_dir)\n",
    "   \n",
    "    return path"
   ]
  },
  {
   "cell_type": "code",
   "execution_count": 7,
   "metadata": {},
   "outputs": [],
   "source": [
    "\n",
    "def read_picture():\n",
    "        #getting the right path for the machine\n",
    "        path = get_path()\n",
    "\n",
    "        # loading the image\n",
    "        imgage = np.array(Image.open(path).convert('L'))\n",
    "\n",
    "        img = cv.imread(path)\n",
    "\n",
    "        return img\n",
    "\n",
    "def gray_filter(img):\n",
    "        gray = cv.cvtColor(img, cv.COLOR_BGR2GRAY)\n",
    "\n",
    "        return gray\n",
    "\n",
    "def show_image(img, gray):\n",
    "        cv.imshow('Original image',img)\n",
    "        cv.imshow('Gray image', gray)\n",
    "\n",
    "        cv.waitKey(0)\n",
    "        cv.destroyAllWindows()\n",
    "\n",
    "def write_image(gray):\n",
    "        cv.imwrite('/home/bela/uni-tuebingen/Image-Augmentation/data/output/img.png', gray)\n",
    "        "
   ]
  },
  {
   "cell_type": "code",
   "execution_count": 8,
   "metadata": {},
   "outputs": [],
   "source": [
    "def main():\n",
    " img = read_picture()\n",
    " gray = gray_filter(img)\n",
    " show_image(img, gray)\n",
    " write_image(gray)"
   ]
  },
  {
   "cell_type": "code",
   "execution_count": 9,
   "metadata": {},
   "outputs": [],
   "source": [
    "main()"
   ]
  }
 ],
 "metadata": {
  "kernelspec": {
   "display_name": "Python 3",
   "language": "python",
   "name": "python3"
  },
  "language_info": {
   "codemirror_mode": {
    "name": "ipython",
    "version": 3
   },
   "file_extension": ".py",
   "mimetype": "text/x-python",
   "name": "python",
   "nbconvert_exporter": "python",
   "pygments_lexer": "ipython3",
   "version": "3.10.6"
  },
  "orig_nbformat": 4
 },
 "nbformat": 4,
 "nbformat_minor": 2
}
